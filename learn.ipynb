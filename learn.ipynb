{
 "cells": [
  {
   "cell_type": "code",
   "execution_count": 1,
   "id": "128ba342-c013-4bb0-b03c-c2a8ebcee12c",
   "metadata": {},
   "outputs": [],
   "source": [
    "from urllib.request import urlopen\n",
    "url = \"http://olympus.realpython.org/profiles/aphrodite\""
   ]
  },
  {
   "cell_type": "code",
   "execution_count": 2,
   "id": "2a7fa0e1-e252-412a-9973-65e8403d9dfd",
   "metadata": {},
   "outputs": [],
   "source": [
    "page = urlopen(url)"
   ]
  },
  {
   "cell_type": "code",
   "execution_count": 3,
   "id": "ff1a7ca4-76d2-424b-9a32-0e080448eac3",
   "metadata": {},
   "outputs": [
    {
     "data": {
      "text/plain": [
       "<http.client.HTTPResponse at 0x1c306f5e610>"
      ]
     },
     "execution_count": 3,
     "metadata": {},
     "output_type": "execute_result"
    }
   ],
   "source": [
    "page"
   ]
  },
  {
   "cell_type": "code",
   "execution_count": 4,
   "id": "f3b16533-6599-469b-927e-97862a4bfce7",
   "metadata": {},
   "outputs": [
    {
     "name": "stdout",
     "output_type": "stream",
     "text": [
      "<html>\n",
      "<head>\n",
      "<title>Profile: Aphrodite</title>\n",
      "</head>\n",
      "<body bgcolor=\"yellow\">\n",
      "<center>\n",
      "<br><br>\n",
      "<img src=\"/static/aphrodite.gif\" />\n",
      "<h2>Name: Aphrodite</h2>\n",
      "<br><br>\n",
      "Favorite animal: Dove\n",
      "<br><br>\n",
      "Favorite color: Red\n",
      "<br><br>\n",
      "Hometown: Mount Olympus\n",
      "</center>\n",
      "</body>\n",
      "</html>\n",
      "\n"
     ]
    }
   ],
   "source": [
    "# read then decode\n",
    "html_bytes = page.read()\n",
    "html = html_bytes.decode(\"utf-8\")\n",
    "\n",
    "print(html)"
   ]
  },
  {
   "cell_type": "code",
   "execution_count": 6,
   "id": "72bd5a01-5515-492e-9e96-0708893bce3d",
   "metadata": {},
   "outputs": [
    {
     "name": "stdout",
     "output_type": "stream",
     "text": [
      "15\n"
     ]
    }
   ],
   "source": [
    "title_index = html.find(\"title\")\n",
    "print(title_index)"
   ]
  },
  {
   "cell_type": "code",
   "execution_count": 10,
   "id": "17016ee8-f1d9-4140-bf77-64fabd2d7cab",
   "metadata": {},
   "outputs": [
    {
     "name": "stdout",
     "output_type": "stream",
     "text": [
      "Profile: \n"
     ]
    }
   ],
   "source": [
    "title = html[21:30]\n",
    "print(title)"
   ]
  },
  {
   "cell_type": "code",
   "execution_count": 11,
   "id": "05b272ed-3388-45f6-b3f6-5218ea388068",
   "metadata": {},
   "outputs": [
    {
     "data": {
      "text/plain": [
       "22"
      ]
     },
     "execution_count": 11,
     "metadata": {},
     "output_type": "execute_result"
    }
   ],
   "source": [
    "start_index = title_index + len(\"<title>\")\n",
    "start_index"
   ]
  },
  {
   "cell_type": "code",
   "execution_count": 13,
   "id": "a85c945e-436c-4178-87d8-e853a8b7c6ac",
   "metadata": {},
   "outputs": [
    {
     "data": {
      "text/plain": [
       "39"
      ]
     },
     "execution_count": 13,
     "metadata": {},
     "output_type": "execute_result"
    }
   ],
   "source": [
    "end_index = html.find(\"</title>\")\n",
    "end_index"
   ]
  },
  {
   "cell_type": "code",
   "execution_count": 16,
   "id": "3b3faba6-86b3-468b-a596-adf0d68cc427",
   "metadata": {},
   "outputs": [
    {
     "data": {
      "text/plain": [
       "'rofile: Aphrodite'"
      ]
     },
     "execution_count": 16,
     "metadata": {},
     "output_type": "execute_result"
    }
   ],
   "source": [
    "html[start_index:end_index]"
   ]
  },
  {
   "cell_type": "code",
   "execution_count": 24,
   "id": "2aaad362-ec0b-4e17-ad29-9004f5ea0348",
   "metadata": {},
   "outputs": [
    {
     "data": {
      "text/plain": [
       "['ABc']"
      ]
     },
     "execution_count": 24,
     "metadata": {},
     "output_type": "execute_result"
    }
   ],
   "source": [
    "import re\n",
    "re.findall(\"ab*c\", \"ABc\", re.IGNORECASE)"
   ]
  },
  {
   "cell_type": "code",
   "execution_count": 25,
   "id": "2d5a14ba-eec6-4a78-a03f-ed378777c6b3",
   "metadata": {},
   "outputs": [
    {
     "data": {
      "text/plain": [
       "['abc']"
      ]
     },
     "execution_count": 25,
     "metadata": {},
     "output_type": "execute_result"
    }
   ],
   "source": [
    "re.findall('a.c', 'abc')"
   ]
  },
  {
   "cell_type": "code",
   "execution_count": 26,
   "id": "4da961bb-516a-4420-8996-b00d03e915f8",
   "metadata": {},
   "outputs": [
    {
     "data": {
      "text/plain": [
       "[]"
      ]
     },
     "execution_count": 26,
     "metadata": {},
     "output_type": "execute_result"
    }
   ],
   "source": [
    "re.findall('a.c', 'abdc')"
   ]
  },
  {
   "cell_type": "code",
   "execution_count": 27,
   "id": "2ca7e988-fb3e-4da2-b2b4-66194e9bdfeb",
   "metadata": {},
   "outputs": [
    {
     "data": {
      "text/plain": [
       "['abdc']"
      ]
     },
     "execution_count": 27,
     "metadata": {},
     "output_type": "execute_result"
    }
   ],
   "source": [
    "re.findall('a.*c', 'abdc')"
   ]
  },
  {
   "cell_type": "code",
   "execution_count": 31,
   "id": "5ab5b632-a5a6-40c8-9391-e64452b135b8",
   "metadata": {},
   "outputs": [
    {
     "ename": "AttributeError",
     "evalue": "'NoneType' object has no attribute 'group'",
     "output_type": "error",
     "traceback": [
      "\u001b[1;31m---------------------------------------------------------------------------\u001b[0m",
      "\u001b[1;31mAttributeError\u001b[0m                            Traceback (most recent call last)",
      "Cell \u001b[1;32mIn[31], line 4\u001b[0m\n\u001b[0;32m      1\u001b[0m \u001b[38;5;66;03m# re.search looks for pattern in a string\u001b[39;00m\n\u001b[0;32m      2\u001b[0m \u001b[38;5;66;03m# returns a matchobject\u001b[39;00m\n\u001b[0;32m      3\u001b[0m match_results \u001b[38;5;241m=\u001b[39m re\u001b[38;5;241m.\u001b[39msearch(\u001b[38;5;124m'\u001b[39m\u001b[38;5;124mab*c\u001b[39m\u001b[38;5;124m'\u001b[39m, \u001b[38;5;124m'\u001b[39m\u001b[38;5;124mABbbbbbbbbdC\u001b[39m\u001b[38;5;124m'\u001b[39m, re\u001b[38;5;241m.\u001b[39mIGNORECASE)\n\u001b[1;32m----> 4\u001b[0m \u001b[43mmatch_results\u001b[49m\u001b[38;5;241;43m.\u001b[39;49m\u001b[43mgroup\u001b[49m()\n",
      "\u001b[1;31mAttributeError\u001b[0m: 'NoneType' object has no attribute 'group'"
     ]
    }
   ],
   "source": [
    "# re.search looks for pattern in a string\n",
    "# returns a matchobject\n",
    "match_results = re.search('ab*c', 'ABbbbbbbbbdC', re.IGNORECASE)\n",
    "match_results.group()"
   ]
  },
  {
   "cell_type": "code",
   "execution_count": 36,
   "id": "48c5d501-b7ef-4739-8088-d58fc9100815",
   "metadata": {},
   "outputs": [
    {
     "name": "stdout",
     "output_type": "stream",
     "text": [
      "replace eggs\n"
     ]
    }
   ],
   "source": [
    "# re.sub() much like replace\n",
    "# replaces mathed pattern with provided text\n",
    "# re.sub(pattern, replacement text, str to work on)\n",
    "\n",
    "test_string =\"replace <all> in <tags>\"\n",
    "resaulting_string = re.sub('<.*>', 'eggs', test_string)\n",
    "print(resaulting_string)"
   ]
  },
  {
   "cell_type": "code",
   "execution_count": 38,
   "id": "338f23f4-0a12-4cd3-891b-9fe9ebc761d4",
   "metadata": {},
   "outputs": [
    {
     "name": "stdout",
     "output_type": "stream",
     "text": [
      "replace eggs in eggs\n"
     ]
    }
   ],
   "source": [
    "resaulting_string_2 = re.sub('<.*?>', 'eggs', test_string)\n",
    "print(resaulting_string_2)"
   ]
  },
  {
   "cell_type": "code",
   "execution_count": 43,
   "id": "e581a97c-0042-4518-b07a-a8e82b177680",
   "metadata": {},
   "outputs": [
    {
     "name": "stdout",
     "output_type": "stream",
     "text": [
      "<html>\n",
      "<head>\n",
      "<title>Profile: Aphrodite</title>\n",
      "</head>\n",
      "<body bgcolor=\"yellow\">\n",
      "<center>\n",
      "<br><br>\n",
      "<img src=\"/static/aphrodite.gif\" />\n",
      "<h2>Name: Aphrodite</h2>\n",
      "<br><br>\n",
      "Favorite animal: Dove\n",
      "<br><br>\n",
      "Favorite color: Red\n",
      "<br><br>\n",
      "Hometown: Mount Olympus\n",
      "</center>\n",
      "</body>\n",
      "</html>\n",
      "\n"
     ]
    }
   ],
   "source": [
    "print(html)"
   ]
  },
  {
   "cell_type": "code",
   "execution_count": 42,
   "id": "d9e714c2-c9c1-4063-88a2-232f67066cee",
   "metadata": {},
   "outputs": [
    {
     "data": {
      "text/plain": [
       "['<title>Profile: Aphrodite</']"
      ]
     },
     "execution_count": 42,
     "metadata": {},
     "output_type": "execute_result"
    }
   ],
   "source": [
    "re.findall('<title.*</', html)"
   ]
  },
  {
   "cell_type": "code",
   "execution_count": 45,
   "id": "31b946a6-fc43-41f0-be0a-190de39ed523",
   "metadata": {},
   "outputs": [
    {
     "name": "stdout",
     "output_type": "stream",
     "text": [
      "\n",
      "\n",
      "Profile: Aphrodite\n",
      "\n",
      "\n",
      "\n",
      "\n",
      "\n",
      "Name: Aphrodite\n",
      "\n",
      "Favorite animal: Dove\n",
      "\n",
      "Favorite color: Red\n",
      "\n",
      "Hometown: Mount Olympus\n",
      "\n",
      "\n",
      "\n",
      "\n"
     ]
    }
   ],
   "source": [
    "from bs4 import BeautifulSoup\n",
    "\n",
    "soup = BeautifulSoup(html, \"html.parser\")\n",
    "print(soup.get_text())"
   ]
  },
  {
   "cell_type": "code",
   "execution_count": null,
   "id": "1d1cf365-42f8-4956-bf4b-495e943f7b9d",
   "metadata": {},
   "outputs": [],
   "source": []
  }
 ],
 "metadata": {
  "kernelspec": {
   "display_name": "Python 3 (ipykernel)",
   "language": "python",
   "name": "python3"
  },
  "language_info": {
   "codemirror_mode": {
    "name": "ipython",
    "version": 3
   },
   "file_extension": ".py",
   "mimetype": "text/x-python",
   "name": "python",
   "nbconvert_exporter": "python",
   "pygments_lexer": "ipython3",
   "version": "3.8.10"
  }
 },
 "nbformat": 4,
 "nbformat_minor": 5
}
