{
 "cells": [
  {
   "cell_type": "code",
   "execution_count": null,
   "id": "9d867c88-88b3-41bb-aef1-171c4749681f",
   "metadata": {},
   "outputs": [],
   "source": [
    "https://www.jumia.co.ke/catalog/productratingsreviews/sku/IN213MP24IXOBNAFAMZ/\n",
    "\n",
    "https://www.jumia.co.ke/catalog/productratingsreviews/sku/NE550HA1QNA4CNAFAMZ/\n",
    "\n",
    "pdt_url = \"https://www.jumia.co.ke/generic-colorscreen-smartwatch-heart-rate-sport-bracelet-152366245.html\""
   ]
  }
 ],
 "metadata": {
  "kernelspec": {
   "display_name": "Python 3 (ipykernel)",
   "language": "python",
   "name": "python3"
  },
  "language_info": {
   "codemirror_mode": {
    "name": "ipython",
    "version": 3
   },
   "file_extension": ".py",
   "mimetype": "text/x-python",
   "name": "python",
   "nbconvert_exporter": "python",
   "pygments_lexer": "ipython3",
   "version": "3.8.10"
  }
 },
 "nbformat": 4,
 "nbformat_minor": 5
}
