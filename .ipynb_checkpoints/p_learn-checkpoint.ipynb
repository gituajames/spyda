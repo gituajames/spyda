{
 "cells": [
  {
   "cell_type": "code",
   "execution_count": 1,
   "id": "3578cdb4-5dcb-41fb-97fd-22f136673eb6",
   "metadata": {},
   "outputs": [],
   "source": [
    "from urllib.request import urlopen, Request"
   ]
  },
  {
   "cell_type": "code",
   "execution_count": 2,
   "id": "ed486d57-350b-4107-acfb-7b909a053a91",
   "metadata": {},
   "outputs": [],
   "source": [
    "my_request = Request(\n",
    "    url = 'https://www.jumia.co.ke/mlp-tech-week-h-everything-computers/',\n",
    "    headers = {'User-Agent' : 'Mozilla/5.0'}\n",
    ")"
   ]
  },
  {
   "cell_type": "code",
   "execution_count": 9,
   "id": "8b9a3d4d-7352-487f-b2d0-79d653f34f39",
   "metadata": {},
   "outputs": [],
   "source": [
    "page = urlopen(my_request)\n",
    "html_bytes = page.read()\n",
    "html = html_bytes.decode()\n",
    "# print(html)"
   ]
  },
  {
   "cell_type": "code",
   "execution_count": 10,
   "id": "4c01b741-96b5-47eb-8939-b45112933cb3",
   "metadata": {},
   "outputs": [],
   "source": [
    "from urllib.request import urlopen, Request\n",
    "def get_html(url):\n",
    "    my_request = Request(\n",
    "        url = url,\n",
    "        headers = {'User-Agent' : 'Mozilla/5.0'}\n",
    "    )\n",
    "\n",
    "    try:\n",
    "        page = urlopen(my_request)\n",
    "        html_bytes = page.read()\n",
    "        html = html_bytes.decode()\n",
    "        return html\n",
    "    except ValueError:\n",
    "        print(\"unkonwn url\")"
   ]
  },
  {
   "cell_type": "code",
   "execution_count": 11,
   "id": "fdb40dcc-24bb-4490-bb44-32e2ddfcfaa4",
   "metadata": {},
   "outputs": [],
   "source": [
    "html2 = get_html('https://www.jumia.co.ke/')\n",
    "f = open(\"test1.html\", \"w\")\n",
    "f.write(html2)\n",
    "f.close()"
   ]
  },
  {
   "cell_type": "code",
   "execution_count": 12,
   "id": "8b6eff5d-3f41-4996-b31e-edeb0c1d107d",
   "metadata": {},
   "outputs": [
    {
     "name": "stdout",
     "output_type": "stream",
     "text": [
      "<html>\n",
      "<head>\n",
      "<TITLE >Profile: Dionysus</title  / >\n",
      "</head>\n",
      "<body bgcolor=\"yellow\">\n",
      "<center>\n",
      "<br><br>\n",
      "<img src=\"/static/dionysus.jpg\" />\n",
      "<h2>Name: Dionysus</h2>\n",
      "<img src=\"/static/grapes.png\"><br><br>\n",
      "Hometown: Mount Olympus\n",
      "<br><br>\n",
      "Favorite animal: Leopard <br>\n",
      "<br>\n",
      "Favorite Color: Wine\n",
      "</center>\n",
      "</body>\n",
      "</html>\n",
      "\n"
     ]
    }
   ],
   "source": [
    "html2 = get_html(\"http://olympus.realpython.org/profiles/dionysus\")\n",
    "print(html2)"
   ]
  },
  {
   "cell_type": "code",
   "execution_count": 13,
   "id": "bdea7a3f-2eef-4dbe-a525-5754a457f5bb",
   "metadata": {},
   "outputs": [],
   "source": [
    "pattern = '<h2.*?</'\n"
   ]
  },
  {
   "cell_type": "code",
   "execution_count": 14,
   "id": "dde16205-be3a-4ad6-ba36-9befbd99bbb4",
   "metadata": {},
   "outputs": [
    {
     "ename": "NameError",
     "evalue": "name 'html3' is not defined",
     "output_type": "error",
     "traceback": [
      "\u001b[0;31m---------------------------------------------------------------------------\u001b[0m",
      "\u001b[0;31mNameError\u001b[0m                                 Traceback (most recent call last)",
      "Cell \u001b[0;32mIn[14], line 3\u001b[0m\n\u001b[1;32m      1\u001b[0m \u001b[38;5;66;03m# html3 = get_html(\"https://www.jumia.co.ke/\")\u001b[39;00m\n\u001b[1;32m      2\u001b[0m \u001b[38;5;28;01mfrom\u001b[39;00m \u001b[38;5;21;01mbs4\u001b[39;00m \u001b[38;5;28;01mimport\u001b[39;00m BeautifulSoup\n\u001b[0;32m----> 3\u001b[0m soup \u001b[38;5;241m=\u001b[39m BeautifulSoup(\u001b[43mhtml3\u001b[49m, \u001b[38;5;124m\"\u001b[39m\u001b[38;5;124mhtml.parser\u001b[39m\u001b[38;5;124m\"\u001b[39m)\n\u001b[1;32m      4\u001b[0m \u001b[38;5;66;03m# print(soup.get_text())\u001b[39;00m\n",
      "\u001b[0;31mNameError\u001b[0m: name 'html3' is not defined"
     ]
    }
   ],
   "source": [
    "# html3 = get_html(\"https://www.jumia.co.ke/\")\n",
    "from bs4 import BeautifulSoup\n",
    "soup = BeautifulSoup(html3, \"html.parser\")\n",
    "# print(soup.get_text())"
   ]
  },
  {
   "cell_type": "code",
   "execution_count": 16,
   "id": "dcb5931a-6b5b-4003-83c0-fe0d8b0ab073",
   "metadata": {},
   "outputs": [],
   "source": [
    "# print(get_html(\"https://fast.com/\"))"
   ]
  },
  {
   "cell_type": "code",
   "execution_count": 18,
   "id": "f58be052-5e77-4d9d-ae3b-7d594c6c4694",
   "metadata": {},
   "outputs": [],
   "source": [
    "from bs4 import BeautifulSoup\n",
    "soup = BeautifulSoup(get_html('https://isk.or.ke/'), \"html.parser\")\n",
    "k = soup.get_text()\n",
    "# k.find(\"Mbps\")"
   ]
  },
  {
   "cell_type": "code",
   "execution_count": 19,
   "id": "8675250d-2851-430f-9826-98a7e7ed8c09",
   "metadata": {},
   "outputs": [
    {
     "data": {
      "text/plain": [
       "'cess guide\\nresources\\n\\n55TH AGM DOCUMENTS\\n\\n\\nResearch\\nDownloads\\n\\n'"
      ]
     },
     "execution_count": 19,
     "metadata": {},
     "output_type": "execute_result"
    }
   ],
   "source": [
    "k[1200:1263]"
   ]
  },
  {
   "cell_type": "code",
   "execution_count": 20,
   "id": "5e9cdeb8-f84b-4837-838f-244777d5ebce",
   "metadata": {},
   "outputs": [
    {
     "data": {
      "text/plain": [
       "<div class=\"row\">\n",
       "<div align=\"center\" class=\"col-md-3 mydarkbluebg\">Latest News:</div>\n",
       "<div class=\"col-md-9 mylightbluebg\"><marquee>\n",
       "<a class=\"alink\" href=\"https://isk.or.ke/2024/02/19/isk-2024-examination-briefing/\">\n",
       "\t\t\t\t\t\t\tISK 2024 EXAMINATION BRIEFING</a>   |   \n",
       "\t\t\t\t\t\t\t\t\t\t\t\t\t\t \n",
       "\t\t\t\t\t\t\t<a class=\"alink\" href=\"https://isk.or.ke/2023/05/24/isk-statement-on-the-role-of-national-land-commision-with-respect-to-valuation-for-compulsory-land-acquisitions-in-kenya/\">\n",
       "\t\t\t\t\t\t\tISK STATEMENT ON THE ROLE OF NATIONAL LAND COMMISION WITH RESPECT TO VALUATION FOR COMPULSORY LAND ACQUISITIONS IN KENYA</a>   |   \n",
       "\t\t\t\t\t\t\t\t\t\t\t\t\t\t \n",
       "\t\t\t\t\t\t\t<a class=\"alink\" href=\"https://isk.or.ke/2023/03/30/isk-pays-a-courtesy-call-to-kenya-national-highways-authority-kenha/\">\n",
       "\t\t\t\t\t\t\tISK PAYS A COURTESY CALL TO KENYA NATIONAL HIGHWAYS AUTHORITY (KENHA)</a>   |   \n",
       "\t\t\t\t\t\t\t\t\t\t\t\t\t\t \n",
       "\t\t\t\t\t\t\t<a class=\"alink\" href=\"https://isk.or.ke/2023/03/30/isk-celebrates-global-surveyors-day/\">\n",
       "\t\t\t\t\t\t\tISK CELEBRATES GLOBAL SURVEYORS’ DAY</a>   |   \n",
       "\t\t\t\t\t\t\t\t\t\t\t\t\t\t \n",
       "\t\t\t\t\t\t\t<a class=\"alink\" href=\"https://isk.or.ke/2023/03/30/invitation-to-the-isk-rcmrd-surveying-workshop-27th-28th-april-2023/\">\n",
       "\t\t\t\t\t\t\tINVITATION TO THE ISK- RCMRD SURVEYING WORKSHOP, 27TH &amp; 28TH APRIL 2023</a>   |   \n",
       "\t\t\t\t\t\t\t\t\t\t\t\t\t\t\n",
       "\t\t\t\t\t\t\t</marquee></div>\n",
       "</div>"
      ]
     },
     "execution_count": 20,
     "metadata": {},
     "output_type": "execute_result"
    }
   ],
   "source": [
    "speed = soup.find(class_=\"row\")\n",
    "speed"
   ]
  },
  {
   "cell_type": "code",
   "execution_count": 43,
   "id": "c470ecd0-142f-4f7a-89d4-731c5ab31802",
   "metadata": {},
   "outputs": [],
   "source": [
    "# feedback hunter\n",
    "\n",
    "pdt_url = \"https://www.jumia.co.ke/vitron-v527-2.1-ch-multimedia-speaker-btusbsdfm-9000w-25642251.html\"\n",
    "# pdt_url = \"https://isk.or.ke/\"\n",
    "\n",
    "pdt_html = get_html(pdt_url)\n",
    "from bs4 import BeautifulSoup\n",
    "\n",
    "soup = BeautifulSoup(pdt_html, 'html.parser')"
   ]
  },
  {
   "cell_type": "code",
   "execution_count": 44,
   "id": "16907e93-987a-4070-be4f-e73145032889",
   "metadata": {},
   "outputs": [],
   "source": [
    "feed_back_sec = soup.find('a', class_='btn _def _ti -mhs -fsh0')"
   ]
  },
  {
   "cell_type": "code",
   "execution_count": 45,
   "id": "b0a90e0b-bfd0-4f47-8abd-9b3020aca451",
   "metadata": {},
   "outputs": [
    {
     "name": "stdout",
     "output_type": "stream",
     "text": [
      "<a class=\"btn _def _ti -mhs -fsh0\" href=\"/catalog/productratingsreviews/sku/VI505EL092BF0NAFAMZ/\">See All<svg class=\"ic -f-or5\" height=\"24\" viewbox=\"0 0 24 24\" width=\"24\"><use xlink:href=\"https://www.jumia.co.ke/assets_he/images/i-icons.a66628fd.svg#arrow-right\"></use></svg></a>\n"
     ]
    }
   ],
   "source": [
    "print(feed_back_sec)"
   ]
  },
  {
   "cell_type": "code",
   "execution_count": 46,
   "id": "0eaf2263-1307-48c8-b04c-557bc3385d46",
   "metadata": {},
   "outputs": [
    {
     "name": "stdout",
     "output_type": "stream",
     "text": [
      "/catalog/productratingsreviews/sku/VI505EL092BF0NAFAMZ/\n"
     ]
    }
   ],
   "source": [
    "feed_back_a = feed_back_sec.get('href')\n",
    "print(feed_back_a)"
   ]
  },
  {
   "cell_type": "code",
   "execution_count": 47,
   "id": "88198e6f-0447-4203-a649-1abd1e794fd5",
   "metadata": {},
   "outputs": [
    {
     "name": "stdout",
     "output_type": "stream",
     "text": [
      "https://jumia.co.ke/catalog/productratingsreviews/sku/VI505EL092BF0NAFAMZ/\n"
     ]
    }
   ],
   "source": [
    "BASE_URL = 'https://jumia.co.ke'\n",
    "feedback_page = BASE_URL + feed_back_a\n",
    "print(feedback_page)"
   ]
  },
  {
   "cell_type": "code",
   "execution_count": 48,
   "id": "33c2eed3-fe3c-48a0-b1b2-607337ec62b0",
   "metadata": {},
   "outputs": [],
   "source": [
    "def get_feedback_url(html):\n",
    "    soup = BeautifulSoup(html, 'html.parser')\n",
    "    feed_back_section = soup.find('a', class_='btn _def _ti -mhs -fsh0')\n",
    "    feed_back_anchor = feed_back_section.get('href')\n",
    "    feedback_page_url = BASE_URL + feed_back_anchor\n",
    "    return feedback_page_url"
   ]
  },
  {
   "cell_type": "code",
   "execution_count": 49,
   "id": "aea081bd-7a5d-4c83-950b-b17603aa1c03",
   "metadata": {},
   "outputs": [],
   "source": [
    "feed_back_page = get_feedback_url(pdt_html)\n",
    "html234 = get_html(feed_back_page)\n",
    "# print(feed_back_page)\n",
    "# print(html234)"
   ]
  },
  {
   "cell_type": "code",
   "execution_count": 50,
   "id": "bc9c7448-e145-4633-90f4-e6495583e238",
   "metadata": {},
   "outputs": [],
   "source": [
    "soup2 = BeautifulSoup(html234, 'html.parser')\n",
    "test = soup2.find('div', class_=\"cola -phm -df -d-co\")\n",
    "# print(test)"
   ]
  },
  {
   "cell_type": "code",
   "execution_count": 29,
   "id": "c64f1125-bcd0-4216-9aa6-a6592b9f4ddf",
   "metadata": {},
   "outputs": [
    {
     "data": {
      "text/plain": [
       "'Verified Ratings (17)'"
      ]
     },
     "execution_count": 29,
     "metadata": {},
     "output_type": "execute_result"
    }
   ],
   "source": [
    "# get total reviews\n",
    "total_ratings = soup2.find('h2', class_=\"-fs14 -m -upp -pvm\")\n",
    "total_ratings.get_text()"
   ]
  },
  {
   "cell_type": "code",
   "execution_count": 30,
   "id": "45b2cf1b-c36e-4823-95cb-71c8c28f2580",
   "metadata": {},
   "outputs": [
    {
     "data": {
      "text/plain": [
       "'3.5'"
      ]
     },
     "execution_count": 30,
     "metadata": {},
     "output_type": "execute_result"
    }
   ],
   "source": [
    "five_star_review = soup2.find('span', class_=\"-b\")\n",
    "five_star_review.get_text()"
   ]
  },
  {
   "cell_type": "code",
   "execution_count": 31,
   "id": "766a2a9d-d6bc-4745-a604-a616440b5096",
   "metadata": {},
   "outputs": [
    {
     "data": {
      "text/plain": [
       "'17 verified ratings'"
      ]
     },
     "execution_count": 31,
     "metadata": {},
     "output_type": "execute_result"
    }
   ],
   "source": [
    "verified_ratings = soup2.find('p', class_=\"-fs16 -pts\")\n",
    "verified_ratings.get_text()"
   ]
  },
  {
   "cell_type": "code",
   "execution_count": 32,
   "id": "1745c3be-1261-424f-a719-6f0a0b5699a5",
   "metadata": {},
   "outputs": [
    {
     "name": "stdout",
     "output_type": "stream",
     "text": [
      "5(7)\n",
      "4(2)\n",
      "3(3)\n",
      "2(2)\n",
      "1(3)\n"
     ]
    }
   ],
   "source": [
    "all_ratings = soup2.find_all('li', class_=\"-df -i-ctr -ptxs -m\")\n",
    "for val in all_ratings:\n",
    "    print(val.get_text())"
   ]
  },
  {
   "cell_type": "code",
   "execution_count": 96,
   "id": "47516f73-7dfa-4a40-ba20-aebbcdeafc17",
   "metadata": {},
   "outputs": [
    {
     "name": "stdout",
     "output_type": "stream",
     "text": [
      "10\n",
      "10\n",
      "10\n",
      "10\n",
      "10\n"
     ]
    }
   ],
   "source": [
    "reviews = soup2.find_all('article', class_=\"-pvs -hr _bet\")\n",
    "# print(reviews)\n",
    "ratings = list()\n",
    "titles = list()\n",
    "reviews_ = list()\n",
    "date_ = list()\n",
    "reviewed_by = list()\n",
    "verified_purchaser = list()\n",
    "for review in reviews:\n",
    "    # print(\"rating : \", review.find('div', class_=\"stars _m _al -mvs\").get_text())\n",
    "    rating = review.find('div', class_=\"stars _m _al -mvs\").get_text()\n",
    "    ratings.append(rating)\n",
    "    # print(\"title : \", review.find('h3', class_=\"-m -fs16 -pvs\").get_text())\n",
    "    title = review.find('h3', class_=\"-m -fs16 -pvs\").get_text()\n",
    "    titles.append(title)\n",
    "    # print(\"review : \", review.find('p', class_=\"-pvs\").get_text())\n",
    "    rev = review.find('p', class_=\"-pvs\").get_text()\n",
    "    reviews_.append(rev)\n",
    "    # print(\"date : \", review.find('span', class_=\"-prs\").get_text())\n",
    "    date = review.find('span', class_=\"-prs\").get_text()\n",
    "    date_.append(date)\n",
    "    # print(\"by : \", review.find('div', class_=\"-pvs\").get_text())\n",
    "    by = review.find('div', class_=\"-pvs\").get_text()\n",
    "    reviewed_by.append(by)\n",
    "    # print(\"verified : \", review.find('div', class_=\"-df -i-ctr -gn5 -fsh0\").get_text())\n",
    "    verified = review.find('div', class_=\"-df -i-ctr -gn5 -fsh0\").get_text()\n",
    "    verified_purchaser.append(verified)\n",
    "    # print(ratings)\n",
    "print(len(ratings))\n",
    "print(len(titles))\n",
    "print(len(reviews_))\n",
    "print(len(date_))\n",
    "print(len(reviewed_by))"
   ]
  },
  {
   "cell_type": "code",
   "execution_count": 100,
   "id": "749309ec-b306-45ff-b310-4b0d1015277a",
   "metadata": {},
   "outputs": [
    {
     "data": {
      "text/html": [
       "<div>\n",
       "<style scoped>\n",
       "    .dataframe tbody tr th:only-of-type {\n",
       "        vertical-align: middle;\n",
       "    }\n",
       "\n",
       "    .dataframe tbody tr th {\n",
       "        vertical-align: top;\n",
       "    }\n",
       "\n",
       "    .dataframe thead th {\n",
       "        text-align: right;\n",
       "    }\n",
       "</style>\n",
       "<table border=\"1\" class=\"dataframe\">\n",
       "  <thead>\n",
       "    <tr style=\"text-align: right;\">\n",
       "      <th></th>\n",
       "      <th>ratings</th>\n",
       "      <th>title</th>\n",
       "      <th>review</th>\n",
       "      <th>date</th>\n",
       "      <th>reviewd_by</th>\n",
       "    </tr>\n",
       "  </thead>\n",
       "  <tbody>\n",
       "    <tr>\n",
       "      <th>0</th>\n",
       "      <td>5 out of 5</td>\n",
       "      <td>Love the product</td>\n",
       "      <td>It's worth the amount, the bass is just qualit...</td>\n",
       "      <td>09-05-2024</td>\n",
       "      <td>09-05-2024by Charles</td>\n",
       "    </tr>\n",
       "    <tr>\n",
       "      <th>1</th>\n",
       "      <td>3 out of 5</td>\n",
       "      <td>Value for money</td>\n",
       "      <td>I guess its not 9000watts or anywhere close to...</td>\n",
       "      <td>09-05-2024</td>\n",
       "      <td>09-05-2024by James</td>\n",
       "    </tr>\n",
       "    <tr>\n",
       "      <th>2</th>\n",
       "      <td>1 out of 5</td>\n",
       "      <td>Broken plug</td>\n",
       "      <td>It came with the plug broken already.</td>\n",
       "      <td>06-05-2024</td>\n",
       "      <td>06-05-2024by EDWIN LIYAI</td>\n",
       "    </tr>\n",
       "    <tr>\n",
       "      <th>3</th>\n",
       "      <td>4 out of 5</td>\n",
       "      <td>Good</td>\n",
       "      <td>Nice one</td>\n",
       "      <td>06-05-2024</td>\n",
       "      <td>06-05-2024by Brighton</td>\n",
       "    </tr>\n",
       "    <tr>\n",
       "      <th>4</th>\n",
       "      <td>1 out of 5</td>\n",
       "      <td>not the real size</td>\n",
       "      <td>The speaker is not the same as it looks in pho...</td>\n",
       "      <td>06-05-2024</td>\n",
       "      <td>06-05-2024by Brian</td>\n",
       "    </tr>\n",
       "  </tbody>\n",
       "</table>\n",
       "</div>"
      ],
      "text/plain": [
       "      ratings              title  \\\n",
       "0  5 out of 5   Love the product   \n",
       "1  3 out of 5    Value for money   \n",
       "2  1 out of 5        Broken plug   \n",
       "3  4 out of 5              Good    \n",
       "4  1 out of 5  not the real size   \n",
       "\n",
       "                                              review        date  \\\n",
       "0  It's worth the amount, the bass is just qualit...  09-05-2024   \n",
       "1  I guess its not 9000watts or anywhere close to...  09-05-2024   \n",
       "2              It came with the plug broken already.  06-05-2024   \n",
       "3                                           Nice one  06-05-2024   \n",
       "4  The speaker is not the same as it looks in pho...  06-05-2024   \n",
       "\n",
       "                 reviewd_by  \n",
       "0      09-05-2024by Charles  \n",
       "1        09-05-2024by James  \n",
       "2  06-05-2024by EDWIN LIYAI  \n",
       "3     06-05-2024by Brighton  \n",
       "4        06-05-2024by Brian  "
      ]
     },
     "execution_count": 100,
     "metadata": {},
     "output_type": "execute_result"
    }
   ],
   "source": [
    "# for pandas\n",
    "import pandas as pd\n",
    "data = {\n",
    "    'ratings' : ratings,\n",
    "    'title' : titles,\n",
    "    'review' : reviews_,\n",
    "    'date' : date_,\n",
    "    'reviewd_by' : reviewed_by\n",
    "}\n",
    "\n",
    "my_d = pd.DataFrame(data)\n",
    "my_d.head()"
   ]
  },
  {
   "cell_type": "code",
   "execution_count": 103,
   "id": "d2800ef6-3484-4c47-aa4f-277c86dcadb2",
   "metadata": {},
   "outputs": [
    {
     "ename": "AttributeError",
     "evalue": "'Index' object has no attribute '_format_native_types'",
     "output_type": "error",
     "traceback": [
      "\u001b[0;31m---------------------------------------------------------------------------\u001b[0m",
      "\u001b[0;31mAttributeError\u001b[0m                            Traceback (most recent call last)",
      "Cell \u001b[0;32mIn[103], line 1\u001b[0m\n\u001b[0;32m----> 1\u001b[0m \u001b[43mmy_d\u001b[49m\u001b[43m[\u001b[49m\u001b[38;5;124;43m'\u001b[39;49m\u001b[38;5;124;43mreview\u001b[39;49m\u001b[38;5;124;43m'\u001b[39;49m\u001b[43m]\u001b[49m\u001b[38;5;241;43m.\u001b[39;49m\u001b[43mto_csv\u001b[49m\u001b[43m(\u001b[49m\u001b[38;5;124;43m\"\u001b[39;49m\u001b[38;5;124;43mrev.csv\u001b[39;49m\u001b[38;5;124;43m\"\u001b[39;49m\u001b[43m)\u001b[49m\n",
      "File \u001b[0;32m~/global/lib/python3.9/site-packages/pandas/util/_decorators.py:333\u001b[0m, in \u001b[0;36mwrapper\u001b[0;34m(*args, **kwargs)\u001b[0m\n\u001b[1;32m    326\u001b[0m         warnings.warn(\n\u001b[1;32m    327\u001b[0m             msg.format(arguments=_format_argument_list(allow_args)),\n\u001b[1;32m    328\u001b[0m             FutureWarning,\n\u001b[1;32m    329\u001b[0m             stacklevel=find_stack_level(),\n\u001b[1;32m    330\u001b[0m         )\n\u001b[1;32m    331\u001b[0m     return func(*args, **kwargs)\n\u001b[0;32m--> 333\u001b[0m # error: \"Callable[[VarArg(Any), KwArg(Any)], Any]\" has no\n\u001b[1;32m    334\u001b[0m # attribute \"__signature__\"\n\u001b[1;32m    335\u001b[0m wrapper.__signature__ = new_sig  # type: ignore[attr-defined]\n\u001b[1;32m    336\u001b[0m return wrapper\n",
      "File \u001b[0;32m~/global/lib/python3.9/site-packages/pandas/core/generic.py:3967\u001b[0m, in \u001b[0;36mto_csv\u001b[0;34m(self, path_or_buf, sep, na_rep, float_format, columns, header, index, index_label, mode, encoding, compression, quoting, quotechar, lineterminator, chunksize, date_format, doublequote, escapechar, decimal, errors, storage_options)\u001b[0m\n\u001b[1;32m   3908\u001b[0m \u001b[38;5;129m@final\u001b[39m\n\u001b[1;32m   3909\u001b[0m \u001b[38;5;28;01mdef\u001b[39;00m \u001b[38;5;21mxs\u001b[39m(\n\u001b[1;32m   3910\u001b[0m     \u001b[38;5;28mself\u001b[39m: NDFrameT,\n\u001b[0;32m   (...)\u001b[0m\n\u001b[1;32m   3914\u001b[0m     drop_level: bool_t \u001b[38;5;241m=\u001b[39m \u001b[38;5;28;01mTrue\u001b[39;00m,\n\u001b[1;32m   3915\u001b[0m ) \u001b[38;5;241m-\u001b[39m\u001b[38;5;241m>\u001b[39m NDFrameT:\n\u001b[1;32m   3916\u001b[0m \u001b[38;5;250m    \u001b[39m\u001b[38;5;124;03m\"\"\"\u001b[39;00m\n\u001b[1;32m   3917\u001b[0m \u001b[38;5;124;03m    Return cross-section from the Series/DataFrame.\u001b[39;00m\n\u001b[1;32m   3918\u001b[0m \n\u001b[1;32m   3919\u001b[0m \u001b[38;5;124;03m    This method takes a `key` argument to select data at a particular\u001b[39;00m\n\u001b[1;32m   3920\u001b[0m \u001b[38;5;124;03m    level of a MultiIndex.\u001b[39;00m\n\u001b[1;32m   3921\u001b[0m \n\u001b[1;32m   3922\u001b[0m \u001b[38;5;124;03m    Parameters\u001b[39;00m\n\u001b[1;32m   3923\u001b[0m \u001b[38;5;124;03m    ----------\u001b[39;00m\n\u001b[1;32m   3924\u001b[0m \u001b[38;5;124;03m    key : label or tuple of label\u001b[39;00m\n\u001b[1;32m   3925\u001b[0m \u001b[38;5;124;03m        Label contained in the index, or partially in a MultiIndex.\u001b[39;00m\n\u001b[1;32m   3926\u001b[0m \u001b[38;5;124;03m    axis : {0 or 'index', 1 or 'columns'}, default 0\u001b[39;00m\n\u001b[1;32m   3927\u001b[0m \u001b[38;5;124;03m        Axis to retrieve cross-section on.\u001b[39;00m\n\u001b[1;32m   3928\u001b[0m \u001b[38;5;124;03m    level : object, defaults to first n levels (n=1 or len(key))\u001b[39;00m\n\u001b[1;32m   3929\u001b[0m \u001b[38;5;124;03m        In case of a key partially contained in a MultiIndex, indicate\u001b[39;00m\n\u001b[1;32m   3930\u001b[0m \u001b[38;5;124;03m        which levels are used. Levels can be referred by label or position.\u001b[39;00m\n\u001b[1;32m   3931\u001b[0m \u001b[38;5;124;03m    drop_level : bool, default True\u001b[39;00m\n\u001b[1;32m   3932\u001b[0m \u001b[38;5;124;03m        If False, returns object with same levels as self.\u001b[39;00m\n\u001b[1;32m   3933\u001b[0m \n\u001b[1;32m   3934\u001b[0m \u001b[38;5;124;03m    Returns\u001b[39;00m\n\u001b[1;32m   3935\u001b[0m \u001b[38;5;124;03m    -------\u001b[39;00m\n\u001b[1;32m   3936\u001b[0m \u001b[38;5;124;03m    Series or DataFrame\u001b[39;00m\n\u001b[1;32m   3937\u001b[0m \u001b[38;5;124;03m        Cross-section from the original Series or DataFrame\u001b[39;00m\n\u001b[1;32m   3938\u001b[0m \u001b[38;5;124;03m        corresponding to the selected index levels.\u001b[39;00m\n\u001b[1;32m   3939\u001b[0m \n\u001b[1;32m   3940\u001b[0m \u001b[38;5;124;03m    See Also\u001b[39;00m\n\u001b[1;32m   3941\u001b[0m \u001b[38;5;124;03m    --------\u001b[39;00m\n\u001b[1;32m   3942\u001b[0m \u001b[38;5;124;03m    DataFrame.loc : Access a group of rows and columns\u001b[39;00m\n\u001b[1;32m   3943\u001b[0m \u001b[38;5;124;03m        by label(s) or a boolean array.\u001b[39;00m\n\u001b[1;32m   3944\u001b[0m \u001b[38;5;124;03m    DataFrame.iloc : Purely integer-location based indexing\u001b[39;00m\n\u001b[1;32m   3945\u001b[0m \u001b[38;5;124;03m        for selection by position.\u001b[39;00m\n\u001b[1;32m   3946\u001b[0m \n\u001b[1;32m   3947\u001b[0m \u001b[38;5;124;03m    Notes\u001b[39;00m\n\u001b[1;32m   3948\u001b[0m \u001b[38;5;124;03m    -----\u001b[39;00m\n\u001b[1;32m   3949\u001b[0m \u001b[38;5;124;03m    `xs` can not be used to set values.\u001b[39;00m\n\u001b[1;32m   3950\u001b[0m \n\u001b[1;32m   3951\u001b[0m \u001b[38;5;124;03m    MultiIndex Slicers is a generic way to get/set values on\u001b[39;00m\n\u001b[1;32m   3952\u001b[0m \u001b[38;5;124;03m    any level or levels.\u001b[39;00m\n\u001b[1;32m   3953\u001b[0m \u001b[38;5;124;03m    It is a superset of `xs` functionality, see\u001b[39;00m\n\u001b[1;32m   3954\u001b[0m \u001b[38;5;124;03m    :ref:`MultiIndex Slicers <advanced.mi_slicers>`.\u001b[39;00m\n\u001b[1;32m   3955\u001b[0m \n\u001b[1;32m   3956\u001b[0m \u001b[38;5;124;03m    Examples\u001b[39;00m\n\u001b[1;32m   3957\u001b[0m \u001b[38;5;124;03m    --------\u001b[39;00m\n\u001b[1;32m   3958\u001b[0m \u001b[38;5;124;03m    >>> d = {'num_legs': [4, 4, 2, 2],\u001b[39;00m\n\u001b[1;32m   3959\u001b[0m \u001b[38;5;124;03m    ...      'num_wings': [0, 0, 2, 2],\u001b[39;00m\n\u001b[1;32m   3960\u001b[0m \u001b[38;5;124;03m    ...      'class': ['mammal', 'mammal', 'mammal', 'bird'],\u001b[39;00m\n\u001b[1;32m   3961\u001b[0m \u001b[38;5;124;03m    ...      'animal': ['cat', 'dog', 'bat', 'penguin'],\u001b[39;00m\n\u001b[1;32m   3962\u001b[0m \u001b[38;5;124;03m    ...      'locomotion': ['walks', 'walks', 'flies', 'walks']}\u001b[39;00m\n\u001b[1;32m   3963\u001b[0m \u001b[38;5;124;03m    >>> df = pd.DataFrame(data=d)\u001b[39;00m\n\u001b[1;32m   3964\u001b[0m \u001b[38;5;124;03m    >>> df = df.set_index(['class', 'animal', 'locomotion'])\u001b[39;00m\n\u001b[1;32m   3965\u001b[0m \u001b[38;5;124;03m    >>> df\u001b[39;00m\n\u001b[1;32m   3966\u001b[0m \u001b[38;5;124;03m                               num_legs  num_wings\u001b[39;00m\n\u001b[0;32m-> 3967\u001b[0m \u001b[38;5;124;03m    class  animal  locomotion\u001b[39;00m\n\u001b[1;32m   3968\u001b[0m \u001b[38;5;124;03m    mammal cat     walks              4          0\u001b[39;00m\n\u001b[1;32m   3969\u001b[0m \u001b[38;5;124;03m           dog     walks              4          0\u001b[39;00m\n\u001b[1;32m   3970\u001b[0m \u001b[38;5;124;03m           bat     flies              2          2\u001b[39;00m\n\u001b[1;32m   3971\u001b[0m \u001b[38;5;124;03m    bird   penguin walks              2          2\u001b[39;00m\n\u001b[1;32m   3972\u001b[0m \n\u001b[1;32m   3973\u001b[0m \u001b[38;5;124;03m    Get values at specified index\u001b[39;00m\n\u001b[1;32m   3974\u001b[0m \n\u001b[1;32m   3975\u001b[0m \u001b[38;5;124;03m    >>> df.xs('mammal')\u001b[39;00m\n\u001b[1;32m   3976\u001b[0m \u001b[38;5;124;03m                       num_legs  num_wings\u001b[39;00m\n\u001b[1;32m   3977\u001b[0m \u001b[38;5;124;03m    animal locomotion\u001b[39;00m\n\u001b[1;32m   3978\u001b[0m \u001b[38;5;124;03m    cat    walks              4          0\u001b[39;00m\n\u001b[1;32m   3979\u001b[0m \u001b[38;5;124;03m    dog    walks              4          0\u001b[39;00m\n\u001b[1;32m   3980\u001b[0m \u001b[38;5;124;03m    bat    flies              2          2\u001b[39;00m\n\u001b[1;32m   3981\u001b[0m \n\u001b[1;32m   3982\u001b[0m \u001b[38;5;124;03m    Get values at several indexes\u001b[39;00m\n\u001b[1;32m   3983\u001b[0m \n\u001b[1;32m   3984\u001b[0m \u001b[38;5;124;03m    >>> df.xs(('mammal', 'dog'))\u001b[39;00m\n\u001b[1;32m   3985\u001b[0m \u001b[38;5;124;03m                num_legs  num_wings\u001b[39;00m\n\u001b[1;32m   3986\u001b[0m \u001b[38;5;124;03m    locomotion\u001b[39;00m\n\u001b[1;32m   3987\u001b[0m \u001b[38;5;124;03m    walks              4          0\u001b[39;00m\n\u001b[1;32m   3988\u001b[0m \n\u001b[1;32m   3989\u001b[0m \u001b[38;5;124;03m    Get values at specified index and level\u001b[39;00m\n\u001b[1;32m   3990\u001b[0m \n\u001b[1;32m   3991\u001b[0m \u001b[38;5;124;03m    >>> df.xs('cat', level=1)\u001b[39;00m\n\u001b[1;32m   3992\u001b[0m \u001b[38;5;124;03m                       num_legs  num_wings\u001b[39;00m\n\u001b[1;32m   3993\u001b[0m \u001b[38;5;124;03m    class  locomotion\u001b[39;00m\n\u001b[1;32m   3994\u001b[0m \u001b[38;5;124;03m    mammal walks              4          0\u001b[39;00m\n\u001b[1;32m   3995\u001b[0m \n\u001b[1;32m   3996\u001b[0m \u001b[38;5;124;03m    Get values at several indexes and levels\u001b[39;00m\n\u001b[1;32m   3997\u001b[0m \n\u001b[1;32m   3998\u001b[0m \u001b[38;5;124;03m    >>> df.xs(('bird', 'walks'),\u001b[39;00m\n\u001b[1;32m   3999\u001b[0m \u001b[38;5;124;03m    ...       level=[0, 'locomotion'])\u001b[39;00m\n\u001b[1;32m   4000\u001b[0m \u001b[38;5;124;03m             num_legs  num_wings\u001b[39;00m\n\u001b[1;32m   4001\u001b[0m \u001b[38;5;124;03m    animal\u001b[39;00m\n\u001b[1;32m   4002\u001b[0m \u001b[38;5;124;03m    penguin         2          2\u001b[39;00m\n\u001b[1;32m   4003\u001b[0m \n\u001b[1;32m   4004\u001b[0m \u001b[38;5;124;03m    Get values at specified column and axis\u001b[39;00m\n\u001b[1;32m   4005\u001b[0m \n\u001b[1;32m   4006\u001b[0m \u001b[38;5;124;03m    >>> df.xs('num_wings', axis=1)\u001b[39;00m\n\u001b[1;32m   4007\u001b[0m \u001b[38;5;124;03m    class   animal   locomotion\u001b[39;00m\n\u001b[1;32m   4008\u001b[0m \u001b[38;5;124;03m    mammal  cat      walks         0\u001b[39;00m\n\u001b[1;32m   4009\u001b[0m \u001b[38;5;124;03m            dog      walks         0\u001b[39;00m\n\u001b[1;32m   4010\u001b[0m \u001b[38;5;124;03m            bat      flies         2\u001b[39;00m\n\u001b[1;32m   4011\u001b[0m \u001b[38;5;124;03m    bird    penguin  walks         2\u001b[39;00m\n\u001b[1;32m   4012\u001b[0m \u001b[38;5;124;03m    Name: num_wings, dtype: int64\u001b[39;00m\n\u001b[1;32m   4013\u001b[0m \u001b[38;5;124;03m    \"\"\"\u001b[39;00m\n\u001b[1;32m   4014\u001b[0m     axis \u001b[38;5;241m=\u001b[39m \u001b[38;5;28mself\u001b[39m\u001b[38;5;241m.\u001b[39m_get_axis_number(axis)\n\u001b[1;32m   4015\u001b[0m     labels \u001b[38;5;241m=\u001b[39m \u001b[38;5;28mself\u001b[39m\u001b[38;5;241m.\u001b[39m_get_axis(axis)\n",
      "File \u001b[0;32m~/global/lib/python3.9/site-packages/pandas/io/formats/format.py:995\u001b[0m, in \u001b[0;36mto_csv\u001b[0;34m(self, path_or_buf, encoding, sep, columns, index_label, mode, compression, quoting, quotechar, lineterminator, chunksize, date_format, doublequote, escapechar, errors, storage_options)\u001b[0m\n\u001b[1;32m    992\u001b[0m \u001b[38;5;28;01melse\u001b[39;00m:\n\u001b[1;32m    993\u001b[0m     col_header \u001b[38;5;241m=\u001b[39m [\u001b[38;5;124m\"\u001b[39m\u001b[38;5;124m\"\u001b[39m] \u001b[38;5;241m*\u001b[39m columns\u001b[38;5;241m.\u001b[39mnlevels\n\u001b[0;32m--> 995\u001b[0m \u001b[38;5;28;01mif\u001b[39;00m \u001b[38;5;28mself\u001b[39m\u001b[38;5;241m.\u001b[39mheader:\n\u001b[1;32m    996\u001b[0m     \u001b[38;5;28;01mreturn\u001b[39;00m col_header \u001b[38;5;241m+\u001b[39m adjoined\n\u001b[1;32m    997\u001b[0m \u001b[38;5;28;01melse\u001b[39;00m:\n",
      "File \u001b[0;32m~/global/lib/python3.9/site-packages/pandas/io/formats/csvs.py:89\u001b[0m, in \u001b[0;36mCSVFormatter.__init__\u001b[0;34m(self, formatter, path_or_buf, sep, cols, index_label, mode, encoding, errors, compression, quoting, lineterminator, chunksize, quotechar, date_format, doublequote, escapechar, storage_options)\u001b[0m\n\u001b[1;32m     87\u001b[0m \u001b[38;5;28mself\u001b[39m\u001b[38;5;241m.\u001b[39mlineterminator \u001b[38;5;241m=\u001b[39m lineterminator \u001b[38;5;129;01mor\u001b[39;00m os\u001b[38;5;241m.\u001b[39mlinesep\n\u001b[1;32m     88\u001b[0m \u001b[38;5;28mself\u001b[39m\u001b[38;5;241m.\u001b[39mdate_format \u001b[38;5;241m=\u001b[39m date_format\n\u001b[0;32m---> 89\u001b[0m \u001b[38;5;28mself\u001b[39m\u001b[38;5;241m.\u001b[39mcols \u001b[38;5;241m=\u001b[39m \u001b[38;5;28;43mself\u001b[39;49m\u001b[38;5;241;43m.\u001b[39;49m\u001b[43m_initialize_columns\u001b[49m\u001b[43m(\u001b[49m\u001b[43mcols\u001b[49m\u001b[43m)\u001b[49m\n\u001b[1;32m     90\u001b[0m \u001b[38;5;28mself\u001b[39m\u001b[38;5;241m.\u001b[39mchunksize \u001b[38;5;241m=\u001b[39m \u001b[38;5;28mself\u001b[39m\u001b[38;5;241m.\u001b[39m_initialize_chunksize(chunksize)\n",
      "File \u001b[0;32m~/global/lib/python3.9/site-packages/pandas/io/formats/csvs.py:161\u001b[0m, in \u001b[0;36mCSVFormatter._initialize_columns\u001b[0;34m(self, cols)\u001b[0m\n\u001b[1;32m    158\u001b[0m \u001b[38;5;66;03m# update columns to include possible multiplicity of dupes\u001b[39;00m\n\u001b[1;32m    159\u001b[0m \u001b[38;5;66;03m# and make sure cols is just a list of labels\u001b[39;00m\n\u001b[1;32m    160\u001b[0m new_cols \u001b[38;5;241m=\u001b[39m \u001b[38;5;28mself\u001b[39m\u001b[38;5;241m.\u001b[39mobj\u001b[38;5;241m.\u001b[39mcolumns\n\u001b[0;32m--> 161\u001b[0m \u001b[38;5;28;01mreturn\u001b[39;00m \u001b[43mnew_cols\u001b[49m\u001b[38;5;241;43m.\u001b[39;49m\u001b[43m_format_native_types\u001b[49m(\u001b[38;5;241m*\u001b[39m\u001b[38;5;241m*\u001b[39m\u001b[38;5;28mself\u001b[39m\u001b[38;5;241m.\u001b[39m_number_format)\n",
      "\u001b[0;31mAttributeError\u001b[0m: 'Index' object has no attribute '_format_native_types'"
     ]
    }
   ],
   "source": [
    "# pagination problem\n",
    "# if no reviews preset exit\n",
    "# if reviews are present then walk through all the pages\n",
    "\n",
    "# identify if the are reviews,\n",
    "\n",
    "no_reviews_url = 'https://www.jumia.co.ke/generic-beitian-high-precision-glonass-bds-galileo-gps-antenna-waterproof-gnss-rtk-board-receiver-antenna-bt-300-model-multi-frequency-antenna-166227973.html'\n",
    "\n",
    "reviews = soup2.find_all('article', class_=\"-pvs -hr _bet\")\n",
    "\n",
    "\n"
   ]
  },
  {
   "cell_type": "code",
   "execution_count": 98,
   "id": "7d4be419-7d93-4c71-a935-85c77c7f5e6c",
   "metadata": {},
   "outputs": [],
   "source": [
    "# for pandas\n",
    "import pandas as pd\n",
    "data = {\n",
    "    five_star_review :list(),\n",
    "    verified_ratings : list()\n",
    "}"
   ]
  },
  {
   "cell_type": "code",
   "execution_count": null,
   "id": "da200c14-33b2-4acc-8a18-24adabed9819",
   "metadata": {},
   "outputs": [],
   "source": []
  }
 ],
 "metadata": {
  "kernelspec": {
   "display_name": "Python 3 (ipykernel)",
   "language": "python",
   "name": "python3"
  },
  "language_info": {
   "codemirror_mode": {
    "name": "ipython",
    "version": 3
   },
   "file_extension": ".py",
   "mimetype": "text/x-python",
   "name": "python",
   "nbconvert_exporter": "python",
   "pygments_lexer": "ipython3",
   "version": "3.9.2"
  }
 },
 "nbformat": 4,
 "nbformat_minor": 5
}
