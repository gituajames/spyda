{
 "cells": [
  {
   "cell_type": "code",
   "execution_count": 1,
   "id": "9d867c88-88b3-41bb-aef1-171c4749681f",
   "metadata": {},
   "outputs": [],
   "source": [
    "# almost clean code\n",
    "from urllib.request import urlopen, Request\n",
    "\n",
    "# function to open urls and returns html to be parsed by beautiful soup\n",
    "def get_html(url):\n",
    "    # takes url and returns decoded html\n",
    "    my_request = Request(\n",
    "        url = url,\n",
    "        headers = {'User-Agent' : 'Mozilla/5.0'}\n",
    "    )\n",
    "\n",
    "    try:\n",
    "        page = urlopen(my_request)\n",
    "        html_bytes = page.read()\n",
    "        html = html_bytes.decode()\n",
    "        return html\n",
    "    except ValueError:\n",
    "        print(\"unkonwn url\")"
   ]
  },
  {
   "cell_type": "code",
   "execution_count": 2,
   "id": "8472cf01-3d93-40dd-93f1-7be14dd2cd32",
   "metadata": {},
   "outputs": [],
   "source": [
    "BASE_URL = 'https://jumia.co.ke'\n",
    "\n",
    "def get_feedback_url(html):\n",
    "    # returns pdt_review html to scrap for reviews\n",
    "    soup = BeautifulSoup(html, 'html.parser')\n",
    "    feed_back_section = soup.find('a', class_='btn _def _ti -mhs -fsh0')\n",
    "    feed_back_anchor = feed_back_section.get('href')\n",
    "    feedback_page_url = BASE_URL + feed_back_anchor\n",
    "    return feedback_page_url"
   ]
  },
  {
   "cell_type": "code",
   "execution_count": 3,
   "id": "9d57f45b-7a95-4c9a-9893-ccebfec985e7",
   "metadata": {},
   "outputs": [],
   "source": [
    "# test urls\n",
    "many_reviews_urls = 'https://www.jumia.co.ke/freeyond-m58gb128gb6.52-50mp4g-smartphone-5000mah-dual-sim-android-phoneblack-109530226.html'\n",
    "\n",
    "no_reviews_url = 'https://www.jumia.co.ke/generic-beitian-high-precision-glonass-bds-galileo-gps-antenna-waterproof-gnss-rtk-board-receiver-antenna-bt-300-model-multi-frequency-antenna-166227973.html'\n",
    "\n",
    "\n"
   ]
  },
  {
   "cell_type": "code",
   "execution_count": 5,
   "id": "c7606080-46f8-4acc-9c0f-2f22870f2b0b",
   "metadata": {},
   "outputs": [
    {
     "name": "stdout",
     "output_type": "stream",
     "text": [
      "10\n",
      "10\n",
      "10\n",
      "10\n",
      "10\n"
     ]
    }
   ],
   "source": [
    "from bs4 import BeautifulSoup\n",
    "my_pdt_html = get_html(many_reviews_urls)\n",
    "my_pdt_feedback_url = get_feedback_url(my_pdt_html)\n",
    "my_pdt_html_page = get_html(my_pdt_feedback_url)\n",
    "soup2 = BeautifulSoup(my_pdt_html_page, 'html.parser')\n",
    "\n",
    "# get all review pages\n",
    "all_review_pages = soup2.find()\n",
    "\n",
    "reviews = soup2.find_all('article', class_=\"-pvs -hr _bet\")\n",
    "# print(reviews)\n",
    "ratings = list()\n",
    "titles = list()\n",
    "reviews_ = list()\n",
    "date_ = list()\n",
    "reviewed_by = list()\n",
    "verified_purchaser = list()\n",
    "for review in reviews:\n",
    "    # print(\"rating : \", review.find('div', class_=\"stars _m _al -mvs\").get_text())\n",
    "    rating = review.find('div', class_=\"stars _m _al -mvs\").get_text()\n",
    "    ratings.append(rating)\n",
    "    # print(\"title : \", review.find('h3', class_=\"-m -fs16 -pvs\").get_text())\n",
    "    title = review.find('h3', class_=\"-m -fs16 -pvs\").get_text()\n",
    "    titles.append(title)\n",
    "    # print(\"review : \", review.find('p', class_=\"-pvs\").get_text())\n",
    "    rev = review.find('p', class_=\"-pvs\").get_text()\n",
    "    reviews_.append(rev)\n",
    "    # print(\"date : \", review.find('span', class_=\"-prs\").get_text())\n",
    "    date = review.find('span', class_=\"-prs\").get_text()\n",
    "    date_.append(date)\n",
    "    # print(\"by : \", review.find('div', class_=\"-pvs\").get_text())\n",
    "    by = review.find('div', class_=\"-pvs\").get_text()\n",
    "    reviewed_by.append(by)\n",
    "    # print(\"verified : \", review.find('div', class_=\"-df -i-ctr -gn5 -fsh0\").get_text())\n",
    "    verified = review.find('div', class_=\"-df -i-ctr -gn5 -fsh0\").get_text()\n",
    "    verified_purchaser.append(verified)\n",
    "    # print(ratings)\n",
    "print(len(ratings))\n",
    "print(len(titles))\n",
    "print(len(reviews_))\n",
    "print(len(date_))\n",
    "print(len(reviewed_by))"
   ]
  },
  {
   "cell_type": "code",
   "execution_count": 6,
   "id": "d28b9da4-a06a-435f-a8b3-455e0e76dcf2",
   "metadata": {},
   "outputs": [
    {
     "name": "stdout",
     "output_type": "stream",
     "text": [
      "/catalog/productratingsreviews/sku/FR407MP2OKL3ANAFAMZ/?page=13\n",
      "13\n",
      "https://jumia.co.ke/catalog/productratingsreviews/sku/FR407MP2OKL3ANAFAMZ/?page=13\n",
      "['https://jumia.co.ke/catalog/productratingsreviews/sku/FR407MP2OKL3ANAFAMZ/?page=1', 'https://jumia.co.ke/catalog/productratingsreviews/sku/FR407MP2OKL3ANAFAMZ/?page=2', 'https://jumia.co.ke/catalog/productratingsreviews/sku/FR407MP2OKL3ANAFAMZ/?page=3', 'https://jumia.co.ke/catalog/productratingsreviews/sku/FR407MP2OKL3ANAFAMZ/?page=4', 'https://jumia.co.ke/catalog/productratingsreviews/sku/FR407MP2OKL3ANAFAMZ/?page=5', 'https://jumia.co.ke/catalog/productratingsreviews/sku/FR407MP2OKL3ANAFAMZ/?page=6', 'https://jumia.co.ke/catalog/productratingsreviews/sku/FR407MP2OKL3ANAFAMZ/?page=7', 'https://jumia.co.ke/catalog/productratingsreviews/sku/FR407MP2OKL3ANAFAMZ/?page=8', 'https://jumia.co.ke/catalog/productratingsreviews/sku/FR407MP2OKL3ANAFAMZ/?page=9', 'https://jumia.co.ke/catalog/productratingsreviews/sku/FR407MP2OKL3ANAFAMZ/?page=10', 'https://jumia.co.ke/catalog/productratingsreviews/sku/FR407MP2OKL3ANAFAMZ/?page=11', 'https://jumia.co.ke/catalog/productratingsreviews/sku/FR407MP2OKL3ANAFAMZ/?page=12', 'https://jumia.co.ke/catalog/productratingsreviews/sku/FR407MP2OKL3ANAFAMZ/?page=13']\n"
     ]
    }
   ],
   "source": [
    "# get all review pages\n",
    "import re\n",
    "\n",
    "pages = '?page='\n",
    "my_regex = r'([page=]\\d+)'\n",
    "all_review_pages = soup2.find(\"a\", attrs={\"aria-label\": \"Last Page\"})\n",
    "# all_review_pages = soup2.find(\"a\", class_=\"pg\", )\n",
    "print(all_review_pages.get('href'))\n",
    "match = re.search(my_regex, all_review_pages.get('href'))\n",
    "final_page = match.group(0).strip('=')\n",
    "print(final_page)\n",
    "print(get_feedback_url(my_pdt_html)+pages+final_page)\n",
    "re.findall(my_regex, all_review_pages.get('href'))\n",
    "\n",
    "def get_all_urls(soup_object):\n",
    "    # takes in a soup object and returns a list of all urls with reviews\n",
    "    url_list = list()\n",
    "    pages = '?page='\n",
    "    all_review_pages = soup_object.find(\"a\", attrs={\"aria-label\": \"Last Page\"})\n",
    "    match = re.search(my_regex, all_review_pages.get('href'))\n",
    "    final_page = match.group(0).strip('=')\n",
    "    for i in range(1, int(final_page)+1):\n",
    "        url = get_feedback_url(my_pdt_html)+pages+str(i)\n",
    "        url_list.append(url)\n",
    "    return url_list\n",
    "print(get_all_urls(soup2))  "
   ]
  },
  {
   "cell_type": "code",
   "execution_count": 7,
   "id": "99c9fc54-15e1-47b1-886a-c3c73cf52538",
   "metadata": {},
   "outputs": [
    {
     "name": "stdout",
     "output_type": "stream",
     "text": [
      "124\n",
      "124\n",
      "124\n",
      "124\n",
      "124\n"
     ]
    }
   ],
   "source": [
    "# all_review_pages = soup.find()\n",
    "\n",
    "all_url_list = get_all_urls(soup2)\n",
    "\n",
    "ratings = list()\n",
    "titles = list()\n",
    "reviews_ = list()\n",
    "date_ = list()\n",
    "reviewed_by = list()\n",
    "verified_purchaser = list()\n",
    "\n",
    "for url in all_url_list:\n",
    "    my_pdt_html_page = get_html(url)\n",
    "    soup3 = BeautifulSoup(my_pdt_html_page, 'html.parser')\n",
    "\n",
    "    reviews = soup3.find_all('article', class_=\"-pvs -hr _bet\")\n",
    "    # print(reviews)\n",
    "    \n",
    "    for review in reviews:\n",
    "        # print(\"rating : \", review.find('div', class_=\"stars _m _al -mvs\").get_text())\n",
    "        rating = review.find('div', class_=\"stars _m _al -mvs\").get_text()\n",
    "        ratings.append(rating)\n",
    "        # print(\"title : \", review.find('h3', class_=\"-m -fs16 -pvs\").get_text())\n",
    "        title = review.find('h3', class_=\"-m -fs16 -pvs\").get_text()\n",
    "        titles.append(title)\n",
    "        # print(\"review : \", review.find('p', class_=\"-pvs\").get_text())\n",
    "        rev = review.find('p', class_=\"-pvs\").get_text()\n",
    "        reviews_.append(rev)\n",
    "        # print(\"date : \", review.find('span', class_=\"-prs\").get_text())\n",
    "        date = review.find('span', class_=\"-prs\").get_text()\n",
    "        date_.append(date)\n",
    "        # print(\"by : \", review.find('div', class_=\"-pvs\").get_text())\n",
    "        by = review.find('div', class_=\"-pvs\").get_text()\n",
    "        reviewed_by.append(by)\n",
    "        # print(\"verified : \", review.find('div', class_=\"-df -i-ctr -gn5 -fsh0\").get_text())\n",
    "        verified = review.find('div', class_=\"-df -i-ctr -gn5 -fsh0\").get_text()\n",
    "        verified_purchaser.append(verified)\n",
    "    # print(ratings)\n",
    "print(len(ratings))\n",
    "print(len(titles))\n",
    "print(len(reviews_))\n",
    "print(len(date_))\n",
    "print(len(reviewed_by))"
   ]
  },
  {
   "cell_type": "code",
   "execution_count": 8,
   "id": "4c6f5e9c-4673-499c-bd74-8ff31881b7ab",
   "metadata": {},
   "outputs": [
    {
     "ename": "ModuleNotFoundError",
     "evalue": "No module named 'pandas'",
     "output_type": "error",
     "traceback": [
      "\u001b[0;31m---------------------------------------------------------------------------\u001b[0m",
      "\u001b[0;31mModuleNotFoundError\u001b[0m                       Traceback (most recent call last)",
      "Cell \u001b[0;32mIn[8], line 2\u001b[0m\n\u001b[1;32m      1\u001b[0m \u001b[38;5;66;03m# use pandas to export the reviews to csv\u001b[39;00m\n\u001b[0;32m----> 2\u001b[0m \u001b[38;5;28;01mimport\u001b[39;00m \u001b[38;5;21;01mpandas\u001b[39;00m \u001b[38;5;28;01mas\u001b[39;00m \u001b[38;5;21;01mpd\u001b[39;00m\n\u001b[1;32m      3\u001b[0m data \u001b[38;5;241m=\u001b[39m {\n\u001b[1;32m      4\u001b[0m     \u001b[38;5;124m'\u001b[39m\u001b[38;5;124mratings\u001b[39m\u001b[38;5;124m'\u001b[39m : ratings,\n\u001b[1;32m      5\u001b[0m     \u001b[38;5;124m'\u001b[39m\u001b[38;5;124mtitle\u001b[39m\u001b[38;5;124m'\u001b[39m : titles,\n\u001b[0;32m   (...)\u001b[0m\n\u001b[1;32m      8\u001b[0m     \u001b[38;5;124m'\u001b[39m\u001b[38;5;124mreviewd_by\u001b[39m\u001b[38;5;124m'\u001b[39m : reviewed_by\n\u001b[1;32m      9\u001b[0m }\n\u001b[1;32m     11\u001b[0m my_d \u001b[38;5;241m=\u001b[39m pd\u001b[38;5;241m.\u001b[39mDataFrame(data)\n",
      "\u001b[0;31mModuleNotFoundError\u001b[0m: No module named 'pandas'"
     ]
    }
   ],
   "source": [
    "# use pandas to export the reviews to csv\n",
    "import pandas as pd\n",
    "data = {\n",
    "    'ratings' : ratings,\n",
    "    'title' : titles,\n",
    "    'review' : reviews_,\n",
    "    'date' : date_,\n",
    "    'reviewd_by' : reviewed_by\n",
    "}\n",
    "\n",
    "my_d = pd.DataFrame(data)\n",
    "my_d.head()"
   ]
  },
  {
   "cell_type": "code",
   "execution_count": 55,
   "id": "f68834af-d101-428f-883c-f50f93189007",
   "metadata": {},
   "outputs": [
    {
     "name": "stdout",
     "output_type": "stream",
     "text": [
      "<class 'pandas.core.frame.DataFrame'>\n",
      "RangeIndex: 118 entries, 0 to 117\n",
      "Data columns (total 5 columns):\n",
      " #   Column      Non-Null Count  Dtype \n",
      "---  ------      --------------  ----- \n",
      " 0   ratings     118 non-null    object\n",
      " 1   title       118 non-null    object\n",
      " 2   review      118 non-null    object\n",
      " 3   date        118 non-null    object\n",
      " 4   reviewd_by  118 non-null    object\n",
      "dtypes: object(5)\n",
      "memory usage: 4.7+ KB\n"
     ]
    }
   ],
   "source": [
    "my_d.info()"
   ]
  },
  {
   "cell_type": "code",
   "execution_count": 56,
   "id": "93e16074-9575-4c4b-8909-0b002d226ac5",
   "metadata": {},
   "outputs": [],
   "source": [
    "my_d.to_csv('all.csv')"
   ]
  },
  {
   "cell_type": "code",
   "execution_count": null,
   "id": "e50c5e2c-0871-4b59-8199-7a3266e725fa",
   "metadata": {},
   "outputs": [],
   "source": []
  },
  {
   "cell_type": "code",
   "execution_count": null,
   "id": "b9c91a9c-49ee-4d83-a548-cae8d62a9563",
   "metadata": {},
   "outputs": [],
   "source": []
  }
 ],
 "metadata": {
  "kernelspec": {
   "display_name": "Python 3 (ipykernel)",
   "language": "python",
   "name": "python3"
  },
  "language_info": {
   "codemirror_mode": {
    "name": "ipython",
    "version": 3
   },
   "file_extension": ".py",
   "mimetype": "text/x-python",
   "name": "python",
   "nbconvert_exporter": "python",
   "pygments_lexer": "ipython3",
   "version": "3.11.2"
  }
 },
 "nbformat": 4,
 "nbformat_minor": 5
}
